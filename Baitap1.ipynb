{
 "cells": [
  {
   "cell_type": "code",
   "execution_count": null,
   "id": "37048402-4b0f-4cfb-9b45-c14cf13e22e7",
   "metadata": {},
   "outputs": [],
   "source": [
    "#1. Cho 2 array arr_a = [1,2,3,2,3,4,3,4,5,6] và \n",
    "#arr_b = [7,2,10,2,7,4,9,4,9,8], tạo array arr_c chỉ lấy duy nhất các phần tử xuất hiện ở cả arr_a và arr_b. "
   ]
  },
  {
   "cell_type": "code",
   "execution_count": 51,
   "id": "9de5748b-bdc1-498e-8b7c-76b580b1225f",
   "metadata": {},
   "outputs": [
    {
     "name": "stdout",
     "output_type": "stream",
     "text": [
      "arr_[c] = {2, 4}\n"
     ]
    }
   ],
   "source": [
    "import numpy as np\n",
    "arr_a = np.array([1,2,3,2,3,4,3,4,5,6])\n",
    "arr_b = np.array([7,2,10,2,7,4,9,4,9,8])\n",
    "arr_c = np.array(set(arr_b) & set (arr_a))\n",
    "print(\"arr_[c] =\", arr_c)"
   ]
  },
  {
   "cell_type": "code",
   "execution_count": null,
   "id": "66059c3e-c4bc-43de-aa5f-852b09b46d17",
   "metadata": {},
   "outputs": [],
   "source": [
    "#2. Từ arr_a và arr_b ở câu 1 => Tạo arr_d chứa các phần tử chỉ xuất hiện ở arr_a. "
   ]
  },
  {
   "cell_type": "code",
   "execution_count": 5,
   "id": "c1c0000f-c0a5-4765-9a03-8dbb1abca08c",
   "metadata": {},
   "outputs": [
    {
     "name": "stdout",
     "output_type": "stream",
     "text": [
      "arr_d = [1, 3, 3, 3, 5, 6]\n"
     ]
    }
   ],
   "source": [
    "import numpy as np\n",
    "arr_a = np.array([1,2,3,2,3,4,3,4,5,6])\n",
    "arr_b = np.array([7,2,10,2,7,4,9,4,9,8])\n",
    "array = []\n",
    "[ array.append(x) for x in arr_a if x not in arr_b ]\n",
    "\n",
    "print(\"arr_d =\", array)"
   ]
  },
  {
   "cell_type": "code",
   "execution_count": 2,
   "id": "1bc6fc26-b633-40fb-b7e9-233aef81299b",
   "metadata": {},
   "outputs": [
    {
     "name": "stdout",
     "output_type": "stream",
     "text": [
      "{8, 9, 10, 6}\n"
     ]
    }
   ],
   "source": [
    "#3. Cho arr_e = np.array([2, 6, 1, 9, 10, 3, 27, 8, 6, 25, 16]), \n",
    "#hãy tạo arr_f chỉ chứa các phần tử có giá trị từ 5 đến 10 của arr_e.\n",
    "import numpy as np\n",
    "arr_e = np.array([2, 6, 1, 9, 10, 3, 27, 8, 6, 25, 16])\n",
    "filter_arr = []\n",
    "\n",
    "for element in arr_e:\n",
    "  if element > 4 and element < 11:\n",
    "    filter_arr.append(True)\n",
    "  else:\n",
    "    filter_arr.append(False)\n",
    "\n",
    "arr_f = set(arr_e[filter_arr])\n",
    "\n",
    "print(arr_f)"
   ]
  }
 ],
 "metadata": {
  "kernelspec": {
   "display_name": "Python 3 (ipykernel)",
   "language": "python",
   "name": "python3"
  },
  "language_info": {
   "codemirror_mode": {
    "name": "ipython",
    "version": 3
   },
   "file_extension": ".py",
   "mimetype": "text/x-python",
   "name": "python",
   "nbconvert_exporter": "python",
   "pygments_lexer": "ipython3",
   "version": "3.9.12"
  }
 },
 "nbformat": 4,
 "nbformat_minor": 5
}
