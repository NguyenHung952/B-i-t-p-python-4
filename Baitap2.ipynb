{
 "cells": [
  {
   "cell_type": "code",
   "execution_count": null,
   "id": "7c93691a-9b6c-4d8c-9b4b-78c5ac35591c",
   "metadata": {},
   "outputs": [],
   "source": [
    "#1. Tạo arr_zeros có 10 phần tử 0, cập nhật phần tử ở vị trí thứ 5 là 1."
   ]
  },
  {
   "cell_type": "code",
   "execution_count": 24,
   "id": "1dc8f06d-9328-4ef1-bd69-73719beb14c8",
   "metadata": {},
   "outputs": [
    {
     "name": "stdout",
     "output_type": "stream",
     "text": [
      "[0 0 0 0 1 0 0 0 0 0 0 0 0 0 0 0 0 0 0 0 0]\n"
     ]
    }
   ],
   "source": [
    "import numpy as np\n",
    "arr_zeros = np.zeros([1,10,1],dtype = int)\n",
    "arr_zeros = np.append(arr_zeros, arr_zeros[0])\n",
    "arr_zeros = np.insert(arr_zeros,4,1)\n",
    "print(arr_zeros)"
   ]
  },
  {
   "cell_type": "code",
   "execution_count": 32,
   "id": "ecd64477-7479-4534-adef-f63cb199d325",
   "metadata": {},
   "outputs": [
    {
     "name": "stdout",
     "output_type": "stream",
     "text": [
      "[10 11 12 13 14 15 16 17 18 19 20 21 22 23 24]\n",
      "[24 23 22 21 20 19 18 17 16 15 14 13 12 11 10]\n"
     ]
    }
   ],
   "source": [
    "#2. Tạo arr_h có giá trị từ 10 đến 24. In danh sách các phần tử theo tứ tự đảo ngược của arr_h. \n",
    "import numpy as np\n",
    "arr_h = np.arange(10,25,1)\n",
    "arr_hs = np.flip(arr_h)\n",
    "print(arr_h)\n",
    "print(arr_hs)"
   ]
  },
  {
   "cell_type": "code",
   "execution_count": 12,
   "id": "f7f71c1c-abdb-47c2-b4b0-f478866d6c73",
   "metadata": {
    "tags": []
   },
   "outputs": [
    {
     "name": "stdout",
     "output_type": "stream",
     "text": [
      "arr_l = [1 2 8 2 1 3 5]\n",
      "arr_l cap nhat = [ 1  2  8  2  1  3  5 10 20]\n",
      "arr_m = [  1   2   8   2 100   1   3   5  10  20]\n",
      "arr_h = [  8 100   3   5  10  20]\n"
     ]
    }
   ],
   "source": [
    "#3. Cho arr_k = np.array([1, 2, 0, 8, 2, 0, 1, 3, 0, 5, 0]), tạo arr_l từ arr_k với các phần tử khác 0. \n",
    "import numpy as np\n",
    "\n",
    "arr_k = np.array([1, 2, 0, 8, 2, 0, 1, 3, 0, 5, 0])\n",
    "filter_arr = []\n",
    "for element in arr_k:\n",
    "    if element > 0:\n",
    "        filter_arr.append(True)\n",
    "    else:\n",
    "        filter_arr.append(False)\n",
    "arr_l = arr_k[filter_arr]\n",
    "\n",
    "print(\"arr_l =\",arr_l)\n",
    "\n",
    "#4. Từ arr_l của câu 3, thêm 2 phần tử có giá trị là 10 và 20 vào cuối array.\n",
    "arr_n = np.append(arr_l, [10,20])\n",
    "print(\"arr_l cap nhat =\",arr_n)\n",
    "\n",
    "#5. Từ array của câu 4, thêm phần tử có giá trị 100 vào vị trí có index = 5.\n",
    "arr_m =np.insert(arr_n,4,100)\n",
    "print(\"arr_m =\",arr_m)\n",
    "\n",
    "#6. Từ array của câu 5, xóa các phần tử tại vị trí có index = 0, 1, 2.\n",
    "filter_array = []\n",
    "for element in arr_m:\n",
    "    if element > 2:\n",
    "        filter_array.append(True)\n",
    "    else:\n",
    "        filter_array.append(False)\n",
    "arr_h = arr_m[filter_array]\n",
    "\n",
    "print(\"arr_h =\",arr_h)\n"
   ]
  }
 ],
 "metadata": {
  "kernelspec": {
   "display_name": "Python 3 (ipykernel)",
   "language": "python",
   "name": "python3"
  },
  "language_info": {
   "codemirror_mode": {
    "name": "ipython",
    "version": 3
   },
   "file_extension": ".py",
   "mimetype": "text/x-python",
   "name": "python",
   "nbconvert_exporter": "python",
   "pygments_lexer": "ipython3",
   "version": "3.9.12"
  }
 },
 "nbformat": 4,
 "nbformat_minor": 5
}
