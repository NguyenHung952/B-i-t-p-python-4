{
 "cells": [
  {
   "cell_type": "code",
   "execution_count": 6,
   "id": "fb3073ea-3433-47ca-b136-122d2ab4ff25",
   "metadata": {},
   "outputs": [
    {
     "name": "stdout",
     "output_type": "stream",
     "text": [
      "[[ True  True  True]\n",
      " [ True  True  True]\n",
      " [ True  True  True]]\n"
     ]
    }
   ],
   "source": [
    "#1. Tạo array arr có kích thước 3x3 với các giá trị True\n",
    "import numpy as np\n",
    "arr = np.array([[0,1,0],[1,1,1],[0,1,0]])\n",
    "arr = np.full((3, 3), True)\n",
    "\n",
    "print(arr)\n"
   ]
  },
  {
   "cell_type": "code",
   "execution_count": 17,
   "id": "1b657521-8709-4eb0-a88c-cb3944fe268e",
   "metadata": {},
   "outputs": [
    {
     "name": "stdout",
     "output_type": "stream",
     "text": [
      "[[0 1 2]\n",
      " [3 4 5]\n",
      " [6 7 8]]\n"
     ]
    }
   ],
   "source": [
    "#2. Cho arr_1D = np.array([0 1 2 3 4 5 6 7 8]). \n",
    "#Tạo array 2 chiều có kích thước 3x3 từ arr_1D, và lưu vào arr_2D \n",
    "#Trong arr_2D, chuyển cột 1 sang cột 3 và ngược lại. \n",
    "import numpy as np\n",
    "arr_1D = np.array([0, 1, 2, 3, 4, 5, 6, 7, 8])\n",
    "arr_2D = arr_1D.reshape((3, 3))\n",
    "print(arr_2D)\n"
   ]
  },
  {
   "cell_type": "code",
   "execution_count": null,
   "id": "4ef4d542-2f52-41f6-9dee-2a3e8518cba2",
   "metadata": {},
   "outputs": [],
   "source": [
    "#3. Từ arr_2D của câu 2 (sau khi đổi thứ tự cột), chuyển dòng 1 sang dòng 2 và ngược lại. "
   ]
  },
  {
   "cell_type": "code",
   "execution_count": null,
   "id": "3ed0061a-1b08-44a7-8953-19a9af68c8c0",
   "metadata": {},
   "outputs": [],
   "source": [
    "#4. Từ arr_2D của câu 3, đảo ngược các dòng của arr_2D."
   ]
  },
  {
   "cell_type": "code",
   "execution_count": null,
   "id": "d7436238-4aee-4365-b8e4-4629924a8051",
   "metadata": {},
   "outputs": [],
   "source": [
    "#5. Từ arr_2D của câu 4, đảo ngược các cột của arr_2D."
   ]
  },
  {
   "cell_type": "code",
   "execution_count": null,
   "id": "f6ecdd81-674e-4bd7-beee-83204f259dd1",
   "metadata": {},
   "outputs": [],
   "source": [
    "#6. Cho arr_2D_null = np.array([[1, 2, 3], [np.NaN, 5, 6], [7, np.NaN, 9], [4, 5, 6]]), \n",
    "#Kiểm tra trong array có giá trị rỗng không? "
   ]
  },
  {
   "cell_type": "code",
   "execution_count": null,
   "id": "5f59f88a-0878-464b-a623-7c8fcd25c0b5",
   "metadata": {},
   "outputs": [],
   "source": [
    "#7. Từ arr_2D_null của câu 6, thay thế giá trị null bằng 0."
   ]
  }
 ],
 "metadata": {
  "kernelspec": {
   "display_name": "Python 3 (ipykernel)",
   "language": "python",
   "name": "python3"
  },
  "language_info": {
   "codemirror_mode": {
    "name": "ipython",
    "version": 3
   },
   "file_extension": ".py",
   "mimetype": "text/x-python",
   "name": "python",
   "nbconvert_exporter": "python",
   "pygments_lexer": "ipython3",
   "version": "3.9.12"
  }
 },
 "nbformat": 4,
 "nbformat_minor": 5
}
